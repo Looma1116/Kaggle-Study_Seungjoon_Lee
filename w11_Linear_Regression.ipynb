{
  "nbformat": 4,
  "nbformat_minor": 0,
  "metadata": {
    "colab": {
      "name": "Linear Regression.ipynb",
      "provenance": [],
      "collapsed_sections": [],
      "authorship_tag": "ABX9TyPlsb8w7kmGIkHvpppJjIGU",
      "include_colab_link": true
    },
    "kernelspec": {
      "name": "python3",
      "display_name": "Python 3"
    },
    "language_info": {
      "name": "python"
    }
  },
  "cells": [
    {
      "cell_type": "markdown",
      "metadata": {
        "id": "view-in-github",
        "colab_type": "text"
      },
      "source": [
        "<a href=\"https://colab.research.google.com/github/Looma1116/Kaggle-Study_Seungjoon_Lee/blob/main/w11_Linear_Regression.ipynb\" target=\"_parent\"><img src=\"https://colab.research.google.com/assets/colab-badge.svg\" alt=\"Open In Colab\"/></a>"
      ]
    },
    {
      "cell_type": "markdown",
      "metadata": {
        "id": "lpf7VktOqAVV"
      },
      "source": [
        "# Singlevariable Linear Regression"
      ]
    },
    {
      "cell_type": "code",
      "metadata": {
        "colab": {
          "base_uri": "https://localhost:8080/"
        },
        "id": "aiIo0aUuVv4f",
        "outputId": "d42e3fb9-0167-4ca7-9960-bef0711fb715"
      },
      "source": [
        "import torch\n",
        "import torch.optim as optim\n",
        "\n",
        "torch.manual_seed(1106)"
      ],
      "execution_count": 2,
      "outputs": [
        {
          "output_type": "execute_result",
          "data": {
            "text/plain": [
              "<torch._C.Generator at 0x7f66194d4950>"
            ]
          },
          "metadata": {
            "tags": []
          },
          "execution_count": 2
        }
      ]
    },
    {
      "cell_type": "markdown",
      "metadata": {
        "id": "cFquHH-AV_At"
      },
      "source": [
        "## Data"
      ]
    },
    {
      "cell_type": "code",
      "metadata": {
        "colab": {
          "base_uri": "https://localhost:8080/"
        },
        "id": "WMYbTUqHWBVq",
        "outputId": "e88d6ae5-8f2c-488f-b625-05474706d845"
      },
      "source": [
        "x_train = torch.FloatTensor([[1],[2],[3]])\n",
        "y_train = torch.FloatTensor([[1],[2],[3]])\n",
        "\n",
        "print(x_train)\n",
        "print(x_train.shape)\n",
        "print(y_train)\n",
        "print(y_train.shape)"
      ],
      "execution_count": null,
      "outputs": [
        {
          "output_type": "stream",
          "text": [
            "tensor([[1.],\n",
            "        [2.],\n",
            "        [3.]])\n",
            "torch.Size([3, 1])\n",
            "tensor([[1.],\n",
            "        [2.],\n",
            "        [3.]])\n",
            "torch.Size([3, 1])\n"
          ],
          "name": "stdout"
        }
      ]
    },
    {
      "cell_type": "markdown",
      "metadata": {
        "id": "eaw_XnplW0iD"
      },
      "source": [
        "## Weight & Bias Init"
      ]
    },
    {
      "cell_type": "code",
      "metadata": {
        "colab": {
          "base_uri": "https://localhost:8080/"
        },
        "id": "SGMCO5tgW2n5",
        "outputId": "4cf178cb-222f-4746-b333-565483948bb7"
      },
      "source": [
        "W = torch.zeros(1, requires_grad=True)\n",
        "b = torch.zeros(1, requires_grad=True)\n",
        "print(W)"
      ],
      "execution_count": null,
      "outputs": [
        {
          "output_type": "stream",
          "text": [
            "tensor([0.], requires_grad=True)\n"
          ],
          "name": "stdout"
        }
      ]
    },
    {
      "cell_type": "markdown",
      "metadata": {
        "id": "V2_1N3FKaycZ"
      },
      "source": [
        "## Hypothesis\n",
        "![image.png](data:image/png;base64,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)"
      ]
    },
    {
      "cell_type": "code",
      "metadata": {
        "colab": {
          "base_uri": "https://localhost:8080/"
        },
        "id": "XGEP1hAxa0Re",
        "outputId": "6e0d4f98-086e-409c-931e-7668611d4cc3"
      },
      "source": [
        "H = x_train * W + b\n",
        "print(H)"
      ],
      "execution_count": null,
      "outputs": [
        {
          "output_type": "stream",
          "text": [
            "tensor([[0.],\n",
            "        [0.],\n",
            "        [0.]], grad_fn=<AddBackward0>)\n"
          ],
          "name": "stdout"
        }
      ]
    },
    {
      "cell_type": "markdown",
      "metadata": {
        "id": "gujx4gCva-UO"
      },
      "source": [
        "## Cost\n",
        "![image.png](data:image/png;base64,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)"
      ]
    },
    {
      "cell_type": "code",
      "metadata": {
        "colab": {
          "base_uri": "https://localhost:8080/"
        },
        "id": "zfC_NmA7bAQm",
        "outputId": "a87dd346-9ea5-464b-c8de-c28ff254b7c2"
      },
      "source": [
        "cost = torch.mean((H - y_train)**2)\n",
        "print(cost)"
      ],
      "execution_count": null,
      "outputs": [
        {
          "output_type": "stream",
          "text": [
            "tensor(4.6667, grad_fn=<MeanBackward0>)\n"
          ],
          "name": "stdout"
        }
      ]
    },
    {
      "cell_type": "markdown",
      "metadata": {
        "id": "CM42_TNfbWio"
      },
      "source": [
        "## Gradient Descent"
      ]
    },
    {
      "cell_type": "code",
      "metadata": {
        "colab": {
          "base_uri": "https://localhost:8080/"
        },
        "id": "Gc10L6bgbNdh",
        "outputId": "f116ca9a-3a15-442b-c06d-4a1d927b06f8"
      },
      "source": [
        "optimizer = optim.SGD([W,b], lr=0.01)\n",
        "\n",
        "optimizer.zero_grad() #옵티마이저 초기화\n",
        "cost.backward() #미분 계산\n",
        "optimizer.step() #옵티마이저 갱신 \n",
        "\n",
        "print(W,b)"
      ],
      "execution_count": null,
      "outputs": [
        {
          "output_type": "stream",
          "text": [
            "tensor([0.0933], requires_grad=True) tensor([0.0400], requires_grad=True)\n"
          ],
          "name": "stdout"
        }
      ]
    },
    {
      "cell_type": "markdown",
      "metadata": {
        "id": "YQUOV0rxb3Ws"
      },
      "source": [
        "## Check"
      ]
    },
    {
      "cell_type": "code",
      "metadata": {
        "colab": {
          "base_uri": "https://localhost:8080/"
        },
        "id": "cpQDHRLccIr9",
        "outputId": "1ed8e363-c2bf-4209-b148-46409427032f"
      },
      "source": [
        "H = x_train * W +b\n",
        "print(H)\n",
        "\n",
        "cost = torch.mean((H - y_train)**2)\n",
        "print(cost)"
      ],
      "execution_count": null,
      "outputs": [
        {
          "output_type": "stream",
          "text": [
            "tensor([[0.1333],\n",
            "        [0.2267],\n",
            "        [0.3200]], grad_fn=<AddBackward0>)\n",
            "tensor(3.6927, grad_fn=<MeanBackward0>)\n"
          ],
          "name": "stdout"
        }
      ]
    },
    {
      "cell_type": "markdown",
      "metadata": {
        "id": "NrFkRhJUcrVl"
      },
      "source": [
        "## Full Code with Iteration"
      ]
    },
    {
      "cell_type": "code",
      "metadata": {
        "colab": {
          "base_uri": "https://localhost:8080/"
        },
        "id": "t4g4YhsMct3f",
        "outputId": "6984e99d-bb06-4dce-8f7a-47a39d979a47"
      },
      "source": [
        "#Data\n",
        "x_train = torch.FloatTensor([[2],[4],[6]])\n",
        "y_train = torch.FloatTensor([[1],[2],[3]])\n",
        "\n",
        "#Init\n",
        "W = torch.zeros(1,requires_grad=True)\n",
        "b = torch.zeros(1, requires_grad=True)\n",
        "\n",
        "#Optimizer\n",
        "Op = optim.SGD([W,b], lr=0.01)\n",
        "\n",
        "nb_epoch = 1000\n",
        "\n",
        "for epoch in range(nb_epoch+1):\n",
        "  H = x_train * W + b\n",
        "  cost = torch.mean((H - y_train)**2)\n",
        "\n",
        "  Op.zero_grad()\n",
        "  cost.backward()\n",
        "  Op.step()\n",
        "\n",
        "  if epoch % 100 == 0:\n",
        "    print('Epoch:{}/{}, W:{:.3f}, b:{:.3f}, cost:{:.6f}'.format(epoch, nb_epoch,W.item(),b.item(),cost.item()))\n",
        "\n",
        "\n"
      ],
      "execution_count": null,
      "outputs": [
        {
          "output_type": "stream",
          "text": [
            "Epoch:0/1000, W:0.187, b:0.040, cost:4.666667\n",
            "Epoch:100/1000, W:0.483, b:0.078, cost:0.000880\n",
            "Epoch:200/1000, W:0.487, b:0.060, cost:0.000509\n",
            "Epoch:300/1000, W:0.490, b:0.045, cost:0.000295\n",
            "Epoch:400/1000, W:0.493, b:0.034, cost:0.000170\n",
            "Epoch:500/1000, W:0.494, b:0.026, cost:0.000099\n",
            "Epoch:600/1000, W:0.496, b:0.020, cost:0.000057\n",
            "Epoch:700/1000, W:0.497, b:0.015, cost:0.000033\n",
            "Epoch:800/1000, W:0.498, b:0.012, cost:0.000019\n",
            "Epoch:900/1000, W:0.498, b:0.009, cost:0.000011\n",
            "Epoch:1000/1000, W:0.499, b:0.007, cost:0.000006\n"
          ],
          "name": "stdout"
        }
      ]
    },
    {
      "cell_type": "markdown",
      "metadata": {
        "id": "-KuvftD4Ce5E"
      },
      "source": [
        "# Handwriting"
      ]
    },
    {
      "cell_type": "code",
      "metadata": {
        "colab": {
          "base_uri": "https://localhost:8080/",
          "height": 283
        },
        "id": "SGx3LxLcCiaU",
        "outputId": "609c548e-56b9-4cac-9d59-52984df0d9fd"
      },
      "source": [
        "import matplotlib.pyplot as plt\n",
        "import numpy as np\n",
        "\n",
        "x_train = torch.FloatTensor([[1],[2],[3]])\n",
        "y_train = torch.FloatTensor([[1],[2],[3]])\n",
        "\n",
        "plt.scatter(x_train, y_train)\n",
        "xs = np.linspace(1,3,1000)\n",
        "plt.plot(xs,xs)"
      ],
      "execution_count": 4,
      "outputs": [
        {
          "output_type": "execute_result",
          "data": {
            "text/plain": [
              "[<matplotlib.lines.Line2D at 0x7f661894c390>]"
            ]
          },
          "metadata": {
            "tags": []
          },
          "execution_count": 4
        },
        {
          "output_type": "display_data",
          "data": {
            "image/png": "[encoded data removed]",
            "text/plain": [
              "<Figure size 432x288 with 1 Axes>"
            ]
          },
          "metadata": {
            "tags": [],
            "needs_background": "light"
          }
        }
      ]
    },
    {
      "cell_type": "code",
      "metadata": {
        "colab": {
          "base_uri": "https://localhost:8080/",
          "height": 295
        },
        "id": "-bY8ur8fNELH",
        "outputId": "ada82896-11c0-479f-ad7f-85fcb0609db8"
      },
      "source": [
        "W_l = np.linspace(-5,7,1000)\n",
        "cost_l = []\n",
        "\n",
        "for W in W_l:\n",
        "  Hypothesis = W*x_train\n",
        "  cost = torch.mean((Hypothesis-y_train)**2)\n",
        "  cost_l.append(cost.item())\n",
        "\n",
        "plt.plot(W_l, cost_l)\n",
        "plt.xlabel('W')\n",
        "plt.ylabel('Cost')\n",
        "plt.title('Cost for W')\n",
        "plt.show()"
      ],
      "execution_count": 26,
      "outputs": [
        {
          "output_type": "display_data",
          "data": {
            "image/png": "[encoded data removed]",
            "text/plain": [
              "<Figure size 432x288 with 1 Axes>"
            ]
          },
          "metadata": {
            "tags": [],
            "needs_background": "light"
          }
        }
      ]
    },
    {
      "cell_type": "markdown",
      "metadata": {
        "id": "tZF4FGiLN1eS"
      },
      "source": [
        "## Gradient Descent"
      ]
    },
    {
      "cell_type": "markdown",
      "metadata": {
        "id": "-YnIoM62nfuV"
      },
      "source": [
        "![image.png](data:image/png;base64,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)"
      ]
    },
    {
      "cell_type": "code",
      "metadata": {
        "colab": {
          "base_uri": "https://localhost:8080/"
        },
        "id": "9usuxonockSQ",
        "outputId": "b98993bf-b943-4364-df04-c01c7e5e9975"
      },
      "source": [
        "grad = torch.sum((W * x_train - y_train)*x_train) #2/m 생략 가능\n",
        "print(W)"
      ],
      "execution_count": 27,
      "outputs": [
        {
          "output_type": "stream",
          "text": [
            "7.0\n"
          ],
          "name": "stdout"
        }
      ]
    },
    {
      "cell_type": "markdown",
      "metadata": {
        "id": "wqLn_2O7n-lL"
      },
      "source": [
        "![image.png](data:image/png;base64,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)"
      ]
    },
    {
      "cell_type": "code",
      "metadata": {
        "colab": {
          "base_uri": "https://localhost:8080/"
        },
        "id": "cgNa2Vm5n_3w",
        "outputId": "b6c1931a-0897-4d8d-b32c-3dd1136819d4"
      },
      "source": [
        "lr = 0.1\n",
        "W -= lr * grad\n",
        "print(W)"
      ],
      "execution_count": 28,
      "outputs": [
        {
          "output_type": "stream",
          "text": [
            "tensor(-1.4000)\n"
          ],
          "name": "stdout"
        }
      ]
    },
    {
      "cell_type": "code",
      "metadata": {
        "colab": {
          "base_uri": "https://localhost:8080/"
        },
        "id": "D8hoZxgNoU_f",
        "outputId": "3388f43a-fb43-4526-8e54-6f3f0ca31ea1"
      },
      "source": [
        "for epoch in range(10):\n",
        "  Hypothesis = W*x_train\n",
        "  cost = torch.mean((Hypothesis-y_train)**2)\n",
        "  grad = torch.sum((Hypothesis - y_train)*x_train)\n",
        "  W -= lr * grad\n",
        "\n",
        "  print('Epoch: {:2d}, W:{:.3f}, cost:{:.3f}'.format(epoch+1, W.item(), cost))"
      ],
      "execution_count": 29,
      "outputs": [
        {
          "output_type": "stream",
          "text": [
            "Epoch:  1, W:1.960, cost:26.880\n",
            "Epoch:  2, W:0.616, cost:4.301\n",
            "Epoch:  3, W:1.154, cost:0.688\n",
            "Epoch:  4, W:0.939, cost:0.110\n",
            "Epoch:  5, W:1.025, cost:0.018\n",
            "Epoch:  6, W:0.990, cost:0.003\n",
            "Epoch:  7, W:1.004, cost:0.000\n",
            "Epoch:  8, W:0.998, cost:0.000\n",
            "Epoch:  9, W:1.001, cost:0.000\n",
            "Epoch: 10, W:1.000, cost:0.000\n"
          ],
          "name": "stdout"
        }
      ]
    },
    {
      "cell_type": "markdown",
      "metadata": {
        "id": "8FN1rMnxp3cO"
      },
      "source": [
        "# Multivariable Linear Regression"
      ]
    },
    {
      "cell_type": "code",
      "metadata": {
        "colab": {
          "base_uri": "https://localhost:8080/"
        },
        "id": "7Ab0qu-MqVbc",
        "outputId": "7042e8d7-3991-445b-8f00-52f524c59d82"
      },
      "source": [
        "torch.manual_seed(1106)\n"
      ],
      "execution_count": 30,
      "outputs": [
        {
          "output_type": "execute_result",
          "data": {
            "text/plain": [
              "<torch._C.Generator at 0x7f66194d4950>"
            ]
          },
          "metadata": {
            "tags": []
          },
          "execution_count": 30
        }
      ]
    },
    {
      "cell_type": "markdown",
      "metadata": {
        "id": "tAkrBtENqcKQ"
      },
      "source": [
        "## Naive Data Representation"
      ]
    },
    {
      "cell_type": "code",
      "metadata": {
        "id": "8TuCNdAF4H2O"
      },
      "source": [
        ""
      ],
      "execution_count": null,
      "outputs": []
    },
    {
      "cell_type": "code",
      "metadata": {
        "id": "MLwsryWVqfpp"
      },
      "source": [
        "x_train = torch.FloatTensor([[73,80,79,71],\n",
        "                            [93,88,90,89],\n",
        "                            [69,81,79,74],\n",
        "                            [46,58,46,66],\n",
        "                            [72,76,75,77]])\n",
        "y_train=torch.FloatTensor([[75],[92],[75],[52],[77]])"
      ],
      "execution_count": 176,
      "outputs": []
    },
    {
      "cell_type": "code",
      "metadata": {
        "colab": {
          "base_uri": "https://localhost:8080/"
        },
        "id": "diLe1R3JrbC0",
        "outputId": "e1862da4-68e0-4fd3-ad0e-48dd69dc1a7a"
      },
      "source": [
        "W = torch.zeros(4,1, requires_grad=True)\n",
        "b = torch.zeros(1, requires_grad=True)\n",
        "\n",
        "optimizer = optim.SGD([W,b], lr = 2e-5)\n",
        "\n",
        "nb_epochs = 100001\n",
        "\n",
        "for epoch in range(nb_epochs+1):\n",
        "  H = x_train.matmul(W) + b\n",
        "  cost = torch.mean((H-y_train)**2)\n",
        "\n",
        "  optimizer.zero_grad()\n",
        "  cost.backward()\n",
        "  optimizer.step()\n",
        "\n",
        "  if epoch % 5000 ==0:\n",
        "    print('Epoch:{:5d}/{}, H:{}, cost:{:.6f}'.format(epoch, nb_epochs,H.squeeze().detach(),cost.item()))\n"
      ],
      "execution_count": 177,
      "outputs": [
        {
          "output_type": "stream",
          "text": [
            "Epoch:    0/100001, H:tensor([0., 0., 0., 0., 0.]), cost:5669.399902\n",
            "Epoch: 5000/100001, H:tensor([75.7126, 92.4097, 74.8961, 52.4481, 75.5709]), cost:0.585911\n",
            "Epoch:10000/100001, H:tensor([75.5685, 92.4235, 74.9345, 52.3973, 75.6977]), cost:0.472130\n",
            "Epoch:15000/100001, H:tensor([75.4576, 92.4057, 74.9940, 52.3521, 75.8035]), cost:0.385936\n",
            "Epoch:20000/100001, H:tensor([75.3611, 92.3896, 75.0465, 52.3127, 75.8957]), cost:0.320349\n",
            "Epoch:25000/100001, H:tensor([75.2770, 92.3755, 75.0922, 52.2784, 75.9761]), cost:0.270435\n",
            "Epoch:30000/100001, H:tensor([75.2037, 92.3632, 75.1321, 52.2484, 76.0462]), cost:0.232447\n",
            "Epoch:35000/100001, H:tensor([75.1397, 92.3525, 75.1669, 52.2222, 76.1074]), cost:0.203533\n",
            "Epoch:40000/100001, H:tensor([75.0838, 92.3431, 75.1972, 52.1994, 76.1608]), cost:0.181529\n",
            "Epoch:45000/100001, H:tensor([75.0352, 92.3349, 75.2236, 52.1795, 76.2074]), cost:0.164775\n",
            "Epoch:50000/100001, H:tensor([74.9927, 92.3278, 75.2467, 52.1622, 76.2481]), cost:0.152019\n",
            "Epoch:55000/100001, H:tensor([74.9557, 92.3216, 75.2668, 52.1470, 76.2835]), cost:0.142310\n",
            "Epoch:60000/100001, H:tensor([74.9234, 92.3161, 75.2844, 52.1338, 76.3145]), cost:0.134910\n",
            "Epoch:65000/100001, H:tensor([74.8952, 92.3114, 75.2997, 52.1223, 76.3415]), cost:0.129272\n",
            "Epoch:70000/100001, H:tensor([74.8707, 92.3072, 75.3130, 52.1122, 76.3650]), cost:0.124977\n",
            "Epoch:75000/100001, H:tensor([74.8493, 92.3036, 75.3246, 52.1035, 76.3856]), cost:0.121698\n",
            "Epoch:80000/100001, H:tensor([74.8306, 92.3004, 75.3347, 52.0958, 76.4035]), cost:0.119198\n",
            "Epoch:85000/100001, H:tensor([74.8143, 92.2977, 75.3436, 52.0892, 76.4192]), cost:0.117287\n",
            "Epoch:90000/100001, H:tensor([74.8001, 92.2952, 75.3513, 52.0834, 76.4328]), cost:0.115825\n",
            "Epoch:95000/100001, H:tensor([74.7878, 92.2931, 75.3580, 52.0782, 76.4447]), cost:0.114709\n",
            "Epoch:100000/100001, H:tensor([74.7769, 92.2913, 75.3638, 52.0739, 76.4552]), cost:0.113848\n"
          ],
          "name": "stdout"
        }
      ]
    },
    {
      "cell_type": "code",
      "metadata": {
        "colab": {
          "base_uri": "https://localhost:8080/",
          "height": 283
        },
        "id": "3PysVDLPCxqZ",
        "outputId": "b6c50c29-4873-43cb-902c-90af324ee3f8"
      },
      "source": [
        "plt.plot(H.squeeze().detach())\n",
        "plt.plot(y_train)\n",
        "x_test = torch.FloatTensor([14,20,50,31])\n",
        "\n",
        "print(x_test@W+b)"
      ],
      "execution_count": 172,
      "outputs": [
        {
          "output_type": "stream",
          "text": [
            "tensor([49.0193], grad_fn=<AddBackward0>)\n"
          ],
          "name": "stdout"
        },
        {
          "output_type": "display_data",
          "data": {
            "image/png": "[encoded data removed]",
            "text/plain": [
              "<Figure size 432x288 with 1 Axes>"
            ]
          },
          "metadata": {
            "tags": [],
            "needs_background": "light"
          }
        }
      ]
    },
    {
      "cell_type": "markdown",
      "metadata": {
        "id": "59KN0zUaKaCK"
      },
      "source": [
        "![image.png](data:image/png;base64,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)"
      ]
    }
  ]
}