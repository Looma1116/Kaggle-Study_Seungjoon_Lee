{
  "nbformat": 4,
  "nbformat_minor": 0,
  "metadata": {
    "colab": {
      "name": "PCA vs LDA.ipynb",
      "provenance": [],
      "collapsed_sections": [],
      "authorship_tag": "ABX9TyPtV/dYe2Wx75HS0yScdSzr",
      "include_colab_link": true
    },
    "kernelspec": {
      "name": "python3",
      "display_name": "Python 3"
    },
    "language_info": {
      "name": "python"
    }
  },
  "cells": [
    {
      "cell_type": "markdown",
      "metadata": {
        "id": "view-in-github",
        "colab_type": "text"
      },
      "source": [
        "<a href=\"https://colab.research.google.com/github/Looma1116/Kaggle-Study_Seungjoon_Lee/blob/main/week8_PCA_vs_LDA.ipynb\" target=\"_parent\"><img src=\"https://colab.research.google.com/assets/colab-badge.svg\" alt=\"Open In Colab\"/></a>"
      ]
    },
    {
      "cell_type": "code",
      "metadata": {
        "id": "AyEG2FyqPXOH"
      },
      "source": [
        "# wine data\n",
        "import pandas as pd\n",
        "dat_wine = pd.read_csv('https://archive.ics.uci.edu/ml/machine-learning-databases/wine/wine.data', header=None)\n",
        "\n",
        "from sklearn.model_selection import train_test_split\n",
        "x,y=dat_wine.iloc[:,1:].values, dat_wine.iloc[:,0].values\n",
        "x_train,x_test,y_train,y_test = train_test_split(x,y,test_size=0.3, random_state=1,stratify=y)\n",
        "\n",
        "from sklearn.preprocessing import StandardScaler\n",
        "std=StandardScaler()\n",
        "x_train_std=std.fit_transform(x_train)\n",
        "x_test_std=std.transform(x_test)\n"
      ],
      "execution_count": 20,
      "outputs": []
    },
    {
      "cell_type": "code",
      "metadata": {
        "colab": {
          "base_uri": "https://localhost:8080/"
        },
        "id": "gIfipxruPZlV",
        "outputId": "2d842b18-4f9b-40e3-f3f9-350a46fabf21"
      },
      "source": [
        "dat_wine.columns #14차원!"
      ],
      "execution_count": 7,
      "outputs": [
        {
          "output_type": "execute_result",
          "data": {
            "text/plain": [
              "Int64Index([0, 1, 2, 3, 4, 5, 6, 7, 8, 9, 10, 11, 12, 13], dtype='int64')"
            ]
          },
          "metadata": {
            "tags": []
          },
          "execution_count": 7
        }
      ]
    },
    {
      "cell_type": "code",
      "metadata": {
        "colab": {
          "base_uri": "https://localhost:8080/"
        },
        "id": "iKRgu-q4RPvu",
        "outputId": "18b4dbf6-c673-4c59-f86c-63c3a19af39a"
      },
      "source": [
        "#eigen value, vector\n",
        "import numpy as np\n",
        "scov = np.cov(x_train_std.T)\n",
        "eigen_vals, eigen_vecs = np.linalg.eig(scov)\n",
        "print('Eigenvalues \\n%s' %eigen_vals)"
      ],
      "execution_count": 9,
      "outputs": [
        {
          "output_type": "stream",
          "text": [
            "Eigenvalues \n",
            "[4.7095539  2.63606471 1.55728758 0.93422662 0.85129454 0.5709688\n",
            " 0.46462025 0.37764772 0.10409155 0.14951983 0.21165109 0.2630501\n",
            " 0.27571434]\n"
          ],
          "name": "stdout"
        }
      ]
    },
    {
      "cell_type": "code",
      "metadata": {
        "colab": {
          "base_uri": "https://localhost:8080/",
          "height": 279
        },
        "id": "m8zu8iPuRvVx",
        "outputId": "42a6fe06-ce8e-4f02-fa0a-5f33c37fbe62"
      },
      "source": [
        "#Explained variance ratio\n",
        "tot = sum(eigen_vals)\n",
        "var_exp=[( i / tot) for i in sorted(eigen_vals, reverse = True)]\n",
        "cum_var_exp = np.cumsum(var_exp)\n",
        "\n",
        "import matplotlib.pyplot as plt\n",
        "plt.bar(range(1,14), var_exp, alpha = 0.5, align='center', label='individual explained variance')\n",
        "plt.step(range(1, 14), cum_var_exp, where='mid', label='cumulative explained variance')\n",
        "plt.axhline(y=0.8, color='r', linewidth=1)\n",
        "plt.ylabel('Explained variance ratio')\n",
        "plt.xlabel('Principal component index')\n",
        "plt.legend(loc='best')\n",
        "plt.show()"
      ],
      "execution_count": 16,
      "outputs": [
        {
          "output_type": "display_data",
          "data": {
            "image/png": "[encoded data removed]",
            "text/plain": [
              "<Figure size 432x288 with 1 Axes>"
            ]
          },
          "metadata": {
            "tags": [],
            "needs_background": "light"
          }
        }
      ]
    },
    {
      "cell_type": "code",
      "metadata": {
        "colab": {
          "base_uri": "https://localhost:8080/"
        },
        "id": "XljEt3upbTbr",
        "outputId": "6c48a5cc-48b4-444a-a09b-3c9e8d29befd"
      },
      "source": [
        "#PCA로 축소 후 로지스틱 회귀\n",
        "from sklearn.linear_model import LogisticRegression\n",
        "from sklearn.decomposition import PCA\n",
        "lpca = PCA(n_components=4)\n",
        "x_train_pca = lpca.fit_transform(x_train_std)\n",
        "x_test_pca = lpca.transform(x_test_std)\n",
        "\n",
        "lr=LogisticRegression()\n",
        "lr.fit(x_train_pca, y_train)\n",
        "y_train_pred = lr.predict(x_train_pca)\n",
        "y_test_pred = lr.predict(x_test_pca)\n",
        "\n",
        "from sklearn import metrics\n",
        "print(metrics.accuracy_score(y_train, y_train_pred))\n",
        "print(metrics.accuracy_score(y_test, y_test_pred))\n",
        "\n"
      ],
      "execution_count": 21,
      "outputs": [
        {
          "output_type": "stream",
          "text": [
            "0.9758064516129032\n",
            "0.9629629629629629\n"
          ],
          "name": "stdout"
        }
      ]
    },
    {
      "cell_type": "code",
      "metadata": {
        "colab": {
          "base_uri": "https://localhost:8080/"
        },
        "id": "RtgMdpwUdb8w",
        "outputId": "39dfdfc4-3e8e-4506-f1e6-6fb10da48f1d"
      },
      "source": [
        "#LDA로 축소 후 로지스틱 회귀\n",
        "from sklearn.discriminant_analysis import LinearDiscriminantAnalysis as LDA\n",
        "\n",
        "lda = LDA(n_components=2) #차원을 2로\n",
        "x_train_lda = lda.fit_transform(x_train_std, y_train)\n",
        "x_test_lda = lda.transform(x_test_std)\n",
        "\n",
        "lr = LogisticRegression()\n",
        "lr.fit(x_train_lda, y_train)\n",
        "y_train_pred = lr.predict(x_train_lda)\n",
        "y_test_pred = lr.predict(x_test_lda)\n",
        "\n",
        "from sklearn import metrics\n",
        "print(metrics.accuracy_score(y_train, y_train_pred))\n",
        "print(metrics.accuracy_score(y_test, y_test_pred))"
      ],
      "execution_count": 23,
      "outputs": [
        {
          "output_type": "stream",
          "text": [
            "1.0\n",
            "0.9629629629629629\n"
          ],
          "name": "stdout"
        }
      ]
    }
  ]
}