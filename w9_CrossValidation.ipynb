{
  "nbformat": 4,
  "nbformat_minor": 0,
  "metadata": {
    "colab": {
      "name": "w9_CrossValidation.ipynb",
      "provenance": [],
      "collapsed_sections": [],
      "mount_file_id": "1J1N4bUZUVJQIyLFU8JYieQ4yxZ5GETkJ",
      "authorship_tag": "ABX9TyN2Zl7VKTqoCqPo9HaJ7OUy",
      "include_colab_link": true
    },
    "kernelspec": {
      "name": "python3",
      "display_name": "Python 3"
    },
    "language_info": {
      "name": "python"
    }
  },
  "cells": [
    {
      "cell_type": "markdown",
      "metadata": {
        "id": "view-in-github",
        "colab_type": "text"
      },
      "source": [
        "<a href=\"https://colab.research.google.com/github/Looma1116/Kaggle-Study_Seungjoon_Lee/blob/main/w9_CrossValidation.ipynb\" target=\"_parent\"><img src=\"https://colab.research.google.com/assets/colab-badge.svg\" alt=\"Open In Colab\"/></a>"
      ]
    },
    {
      "cell_type": "markdown",
      "metadata": {
        "id": "Lo5sgCo0u0sJ"
      },
      "source": [
        "## DataSet= UniversalBank : Loan or Not"
      ]
    },
    {
      "cell_type": "code",
      "metadata": {
        "colab": {
          "base_uri": "https://localhost:8080/",
          "height": 259
        },
        "id": "ki7VRDiFEhQZ",
        "outputId": "31975a1a-d5c6-42a9-925e-69f218a71e4c"
      },
      "source": [
        "import pandas as pd\n",
        "\n",
        "from google.colab import drive\n",
        "drive.mount('/content/drive')\n",
        "\n",
        "bank_df = pd.read_csv('/content/drive/MyDrive/DataFolder/UniversalBank.csv')\n",
        "bank_df.head()"
      ],
      "execution_count": 92,
      "outputs": [
        {
          "output_type": "stream",
          "text": [
            "Drive already mounted at /content/drive; to attempt to forcibly remount, call drive.mount(\"/content/drive\", force_remount=True).\n"
          ],
          "name": "stdout"
        },
        {
          "output_type": "execute_result",
          "data": {
            "text/html": [
              "<div>\n",
              "<style scoped>\n",
              "    .dataframe tbody tr th:only-of-type {\n",
              "        vertical-align: middle;\n",
              "    }\n",
              "\n",
              "    .dataframe tbody tr th {\n",
              "        vertical-align: top;\n",
              "    }\n",
              "\n",
              "    .dataframe thead th {\n",
              "        text-align: right;\n",
              "    }\n",
              "</style>\n",
              "<table border=\"1\" class=\"dataframe\">\n",
              "  <thead>\n",
              "    <tr style=\"text-align: right;\">\n",
              "      <th></th>\n",
              "      <th>ID</th>\n",
              "      <th>Age</th>\n",
              "      <th>Experience</th>\n",
              "      <th>Income</th>\n",
              "      <th>ZIP Code</th>\n",
              "      <th>Family</th>\n",
              "      <th>CCAvg</th>\n",
              "      <th>Education</th>\n",
              "      <th>Mortgage</th>\n",
              "      <th>Personal Loan</th>\n",
              "      <th>Securities Account</th>\n",
              "      <th>CD Account</th>\n",
              "      <th>Online</th>\n",
              "      <th>CreditCard</th>\n",
              "    </tr>\n",
              "  </thead>\n",
              "  <tbody>\n",
              "    <tr>\n",
              "      <th>0</th>\n",
              "      <td>1</td>\n",
              "      <td>25</td>\n",
              "      <td>1</td>\n",
              "      <td>49</td>\n",
              "      <td>91107</td>\n",
              "      <td>4</td>\n",
              "      <td>1.6</td>\n",
              "      <td>1</td>\n",
              "      <td>0</td>\n",
              "      <td>0</td>\n",
              "      <td>1</td>\n",
              "      <td>0</td>\n",
              "      <td>0</td>\n",
              "      <td>0</td>\n",
              "    </tr>\n",
              "    <tr>\n",
              "      <th>1</th>\n",
              "      <td>2</td>\n",
              "      <td>45</td>\n",
              "      <td>19</td>\n",
              "      <td>34</td>\n",
              "      <td>90089</td>\n",
              "      <td>3</td>\n",
              "      <td>1.5</td>\n",
              "      <td>1</td>\n",
              "      <td>0</td>\n",
              "      <td>0</td>\n",
              "      <td>1</td>\n",
              "      <td>0</td>\n",
              "      <td>0</td>\n",
              "      <td>0</td>\n",
              "    </tr>\n",
              "    <tr>\n",
              "      <th>2</th>\n",
              "      <td>3</td>\n",
              "      <td>39</td>\n",
              "      <td>15</td>\n",
              "      <td>11</td>\n",
              "      <td>94720</td>\n",
              "      <td>1</td>\n",
              "      <td>1.0</td>\n",
              "      <td>1</td>\n",
              "      <td>0</td>\n",
              "      <td>0</td>\n",
              "      <td>0</td>\n",
              "      <td>0</td>\n",
              "      <td>0</td>\n",
              "      <td>0</td>\n",
              "    </tr>\n",
              "    <tr>\n",
              "      <th>3</th>\n",
              "      <td>4</td>\n",
              "      <td>35</td>\n",
              "      <td>9</td>\n",
              "      <td>100</td>\n",
              "      <td>94112</td>\n",
              "      <td>1</td>\n",
              "      <td>2.7</td>\n",
              "      <td>2</td>\n",
              "      <td>0</td>\n",
              "      <td>0</td>\n",
              "      <td>0</td>\n",
              "      <td>0</td>\n",
              "      <td>0</td>\n",
              "      <td>0</td>\n",
              "    </tr>\n",
              "    <tr>\n",
              "      <th>4</th>\n",
              "      <td>5</td>\n",
              "      <td>35</td>\n",
              "      <td>8</td>\n",
              "      <td>45</td>\n",
              "      <td>91330</td>\n",
              "      <td>4</td>\n",
              "      <td>1.0</td>\n",
              "      <td>2</td>\n",
              "      <td>0</td>\n",
              "      <td>0</td>\n",
              "      <td>0</td>\n",
              "      <td>0</td>\n",
              "      <td>0</td>\n",
              "      <td>1</td>\n",
              "    </tr>\n",
              "  </tbody>\n",
              "</table>\n",
              "</div>"
            ],
            "text/plain": [
              "   ID  Age  Experience  ...  CD Account  Online  CreditCard\n",
              "0   1   25           1  ...           0       0           0\n",
              "1   2   45          19  ...           0       0           0\n",
              "2   3   39          15  ...           0       0           0\n",
              "3   4   35           9  ...           0       0           0\n",
              "4   5   35           8  ...           0       0           1\n",
              "\n",
              "[5 rows x 14 columns]"
            ]
          },
          "metadata": {
            "tags": []
          },
          "execution_count": 92
        }
      ]
    },
    {
      "cell_type": "code",
      "metadata": {
        "id": "ZKV7iuZSHZ9F"
      },
      "source": [
        "x = bank_df.drop(['ID','ZIP Code','Personal Loan'], axis=1)\n",
        "y = bank_df['Personal Loan']"
      ],
      "execution_count": 93,
      "outputs": []
    },
    {
      "cell_type": "code",
      "metadata": {
        "id": "ARg9-pugHx1P"
      },
      "source": [
        "from sklearn.model_selection import train_test_split\n",
        "x_train,x_test,y_train,y_test = train_test_split(x,y, test_size=0.4, stratify=y)"
      ],
      "execution_count": 94,
      "outputs": []
    },
    {
      "cell_type": "markdown",
      "metadata": {
        "id": "gon_8aqSJxjI"
      },
      "source": [
        "##Model Setting  \n",
        "DecisionTree, KNN, LogisticRegression"
      ]
    },
    {
      "cell_type": "code",
      "metadata": {
        "id": "VMhq7C-UIllh"
      },
      "source": [
        "from sklearn.tree import DecisionTreeClassifier\n",
        "from sklearn.neighbors import KNeighborsClassifier\n",
        "from sklearn.linear_model import LogisticRegression\n",
        "\n",
        "logistic = LogisticRegression(solver='liblinear',\n",
        "                              penalty ='l2',\n",
        "                              C=0.01,\n",
        "                              random_state=1)\n",
        "tree = DecisionTreeClassifier(max_depth=None,\n",
        "                              criterion='entropy',\n",
        "                              random_state=1)\n",
        "knn =KNeighborsClassifier(n_neighbors=4,\n",
        "                          p=2,\n",
        "                          metric='minkowski')"
      ],
      "execution_count": 95,
      "outputs": []
    },
    {
      "cell_type": "markdown",
      "metadata": {
        "id": "MWB5SJZCgeeR"
      },
      "source": [
        "#Ensemble : Majority Voting"
      ]
    },
    {
      "cell_type": "code",
      "metadata": {
        "id": "ZAynSRFSfiY6"
      },
      "source": [
        "from sklearn.ensemble import VotingClassifier\n",
        "voting_estimators = [('logistic', logistic), ('tree', tree), ('knn',knn)]\n",
        "voting = VotingClassifier(estimators = voting_estimators, voting='soft')"
      ],
      "execution_count": 96,
      "outputs": []
    },
    {
      "cell_type": "markdown",
      "metadata": {
        "id": "_-D8vW4ehdz8"
      },
      "source": [
        "K-fold 교차검증"
      ]
    },
    {
      "cell_type": "code",
      "metadata": {
        "colab": {
          "base_uri": "https://localhost:8080/"
        },
        "id": "RQMqfV0ghfsq",
        "outputId": "470cf0fc-b69b-4448-c5cc-135c1216eb46"
      },
      "source": [
        "from sklearn.model_selection import cross_val_score\n",
        "clf_labels = ['Logistic regression', 'Decision tree', 'KNN', 'Majority voting']\n",
        "all_clf = [logistic, tree, knn, voting]\n",
        "\n",
        "for clf, label in zip(all_clf, clf_labels):                     #cv(closs validation) : k-fold 몇 겹)\n",
        "   scores = cross_val_score(estimator=clf, X = x_train, y=y_train, cv=10, scoring = 'roc_auc')\n",
        "   print(\"ROC AUC: %0.3f (+/- %0.3f) [%s]\" % (scores.mean(),scores.std(),label))"
      ],
      "execution_count": 97,
      "outputs": [
        {
          "output_type": "stream",
          "text": [
            "ROC AUC: 0.940 (+/- 0.021) [Logistic regression]\n",
            "ROC AUC: 0.950 (+/- 0.031) [Decision tree]\n",
            "ROC AUC: 0.850 (+/- 0.040) [KNN]\n",
            "ROC AUC: 0.978 (+/- 0.017) [Majority voting]\n"
          ],
          "name": "stdout"
        }
      ]
    },
    {
      "cell_type": "markdown",
      "metadata": {
        "id": "fpn9dB9tl0La"
      },
      "source": [
        "##GridSearch \n",
        " 방식을 통해 각각의 모델의 최적 파라피터를 찾아보자"
      ]
    },
    {
      "cell_type": "code",
      "metadata": {
        "colab": {
          "base_uri": "https://localhost:8080/"
        },
        "id": "BoNQW99xmd1X",
        "outputId": "a3102e55-40e0-4893-c84e-b853707b3a42"
      },
      "source": [
        "from sklearn.model_selection import GridSearchCV\n",
        "\n",
        "params = {'logistic__C' : [0.001, 10, 100],\n",
        "          'tree__max_depth' : [1, 3, 5],\n",
        "          'knn__n_neighbors' : [1, 3, 5]\n",
        "}\n",
        "\n",
        "grid = GridSearchCV(estimator=voting,\n",
        "                    param_grid=params,\n",
        "                    cv=10,\n",
        "                    scoring = 'roc_auc',)\n",
        "grid.fit(x_train,y_train)\n",
        "\n",
        "for r, _ in enumerate(grid.cv_results_['mean_test_score']):\n",
        "  print('%0.3f +/- %0.3f %r' % (grid.cv_results_['mean_test_score'][r],\n",
        "                                grid.cv_results_['std_test_score'][r] / 2.0,\n",
        "                                grid.cv_results_['params'][r]))\n",
        "\n",
        "print('최적의 파라미터: %s' % grid.best_params_)\n",
        "print('ACU: %.3f' % grid.best_score_)\n"
      ],
      "execution_count": 98,
      "outputs": [
        {
          "output_type": "stream",
          "text": [
            "0.924 +/- 0.009 {'knn__n_neighbors': 1, 'logistic__C': 0.001, 'tree__max_depth': 1}\n",
            "0.970 +/- 0.006 {'knn__n_neighbors': 1, 'logistic__C': 0.001, 'tree__max_depth': 3}\n",
            "0.973 +/- 0.006 {'knn__n_neighbors': 1, 'logistic__C': 0.001, 'tree__max_depth': 5}\n",
            "0.942 +/- 0.008 {'knn__n_neighbors': 1, 'logistic__C': 10, 'tree__max_depth': 1}\n",
            "0.978 +/- 0.006 {'knn__n_neighbors': 1, 'logistic__C': 10, 'tree__max_depth': 3}\n",
            "0.978 +/- 0.007 {'knn__n_neighbors': 1, 'logistic__C': 10, 'tree__max_depth': 5}\n",
            "0.942 +/- 0.008 {'knn__n_neighbors': 1, 'logistic__C': 100, 'tree__max_depth': 1}\n",
            "0.978 +/- 0.006 {'knn__n_neighbors': 1, 'logistic__C': 100, 'tree__max_depth': 3}\n",
            "0.978 +/- 0.007 {'knn__n_neighbors': 1, 'logistic__C': 100, 'tree__max_depth': 5}\n",
            "0.928 +/- 0.010 {'knn__n_neighbors': 3, 'logistic__C': 0.001, 'tree__max_depth': 1}\n",
            "0.976 +/- 0.005 {'knn__n_neighbors': 3, 'logistic__C': 0.001, 'tree__max_depth': 3}\n",
            "0.979 +/- 0.006 {'knn__n_neighbors': 3, 'logistic__C': 0.001, 'tree__max_depth': 5}\n",
            "0.950 +/- 0.009 {'knn__n_neighbors': 3, 'logistic__C': 10, 'tree__max_depth': 1}\n",
            "0.980 +/- 0.006 {'knn__n_neighbors': 3, 'logistic__C': 10, 'tree__max_depth': 3}\n",
            "0.979 +/- 0.008 {'knn__n_neighbors': 3, 'logistic__C': 10, 'tree__max_depth': 5}\n",
            "0.951 +/- 0.009 {'knn__n_neighbors': 3, 'logistic__C': 100, 'tree__max_depth': 1}\n",
            "0.980 +/- 0.006 {'knn__n_neighbors': 3, 'logistic__C': 100, 'tree__max_depth': 3}\n",
            "0.979 +/- 0.008 {'knn__n_neighbors': 3, 'logistic__C': 100, 'tree__max_depth': 5}\n",
            "0.926 +/- 0.010 {'knn__n_neighbors': 5, 'logistic__C': 0.001, 'tree__max_depth': 1}\n",
            "0.975 +/- 0.006 {'knn__n_neighbors': 5, 'logistic__C': 0.001, 'tree__max_depth': 3}\n",
            "0.979 +/- 0.006 {'knn__n_neighbors': 5, 'logistic__C': 0.001, 'tree__max_depth': 5}\n",
            "0.951 +/- 0.009 {'knn__n_neighbors': 5, 'logistic__C': 10, 'tree__max_depth': 1}\n",
            "0.978 +/- 0.006 {'knn__n_neighbors': 5, 'logistic__C': 10, 'tree__max_depth': 3}\n",
            "0.978 +/- 0.008 {'knn__n_neighbors': 5, 'logistic__C': 10, 'tree__max_depth': 5}\n",
            "0.951 +/- 0.008 {'knn__n_neighbors': 5, 'logistic__C': 100, 'tree__max_depth': 1}\n",
            "0.978 +/- 0.006 {'knn__n_neighbors': 5, 'logistic__C': 100, 'tree__max_depth': 3}\n",
            "0.978 +/- 0.007 {'knn__n_neighbors': 5, 'logistic__C': 100, 'tree__max_depth': 5}\n",
            "최적의 파라미터: {'knn__n_neighbors': 3, 'logistic__C': 100, 'tree__max_depth': 3}\n",
            "ACU: 0.980\n"
          ],
          "name": "stdout"
        }
      ]
    },
    {
      "cell_type": "markdown",
      "metadata": {
        "id": "QiYdkNIJvXDH"
      },
      "source": [
        "# Ensemble : Bagging"
      ]
    },
    {
      "cell_type": "code",
      "metadata": {
        "id": "_A3sZUOAvkm2"
      },
      "source": [
        "from sklearn.ensemble import BaggingClassifier\n",
        "\n",
        "bagging = BaggingClassifier(base_estimator=tree,\n",
        "                            n_estimators=500, #트리가 500개!?\n",
        "                            max_samples=1.0,\n",
        "                            max_features=1.0,\n",
        "                            bootstrap=True, #입력데이터 중복 허용\n",
        "                            bootstrap_features=False,\n",
        "                            n_jobs=1,\n",
        "                            random_state=1)"
      ],
      "execution_count": 99,
      "outputs": []
    },
    {
      "cell_type": "markdown",
      "metadata": {
        "id": "MVmyc6C4wGPg"
      },
      "source": [
        "K-fold"
      ]
    },
    {
      "cell_type": "code",
      "metadata": {
        "colab": {
          "base_uri": "https://localhost:8080/"
        },
        "id": "324v_rinwJK_",
        "outputId": "8a9ae9bd-9be5-46f5-dc44-12e3ee0e2b0c"
      },
      "source": [
        "clf_labels = ['Decision tree', 'Bagging']\n",
        "all_clf = [tree, bagging]\n",
        "\n",
        "for clf, label in zip(all_clf, clf_labels):\n",
        "  scores = cross_val_score(estimator= clf, X=x_train, y = y_train, cv=10, scoring='roc_auc')\n",
        "  print(\"ROC AUC: %0.3f (+/- %0.3f) [%s]\" % (scores.mean(), scores.std(), label))"
      ],
      "execution_count": 100,
      "outputs": [
        {
          "output_type": "stream",
          "text": [
            "ROC AUC: 0.950 (+/- 0.031) [Decision tree]\n",
            "ROC AUC: 0.998 (+/- 0.001) [Bagging]\n"
          ],
          "name": "stdout"
        }
      ]
    },
    {
      "cell_type": "markdown",
      "metadata": {
        "id": "nhxqWld09vml"
      },
      "source": [
        "# Ensemble : Boosting"
      ]
    },
    {
      "cell_type": "code",
      "metadata": {
        "id": "nnliR2LA9xio"
      },
      "source": [
        "tree = DecisionTreeClassifier(max_depth=1,\n",
        "                              criterion = 'entropy',\n",
        "                              random_state=1)\n",
        "\n",
        "from sklearn.ensemble import AdaBoostClassifier\n",
        "adaboost = AdaBoostClassifier(base_estimator=tree,\n",
        "                              n_estimators=500,\n",
        "                              learning_rate=0.1,\n",
        "                              random_state=1)\n"
      ],
      "execution_count": 101,
      "outputs": []
    },
    {
      "cell_type": "code",
      "metadata": {
        "colab": {
          "base_uri": "https://localhost:8080/"
        },
        "id": "15Xvr9iH-I1X",
        "outputId": "4d3e729d-a481-405b-d245-f27a577cd4af"
      },
      "source": [
        "clf_labels = ['Decision tree', 'Boosting']\n",
        "all_clf = [tree, adaboost]\n",
        "\n",
        "for clf, label in zip(all_clf, clf_labels):\n",
        "  scores = cross_val_score(estimator= clf, X=x_train, y = y_train, cv=10, scoring='roc_auc')\n",
        "  print(\"ROC AUC: %0.3f (+/- %0.3f) [%s]\" % (scores.mean(), scores.std(), label))"
      ],
      "execution_count": 102,
      "outputs": [
        {
          "output_type": "stream",
          "text": [
            "ROC AUC: 0.863 (+/- 0.021) [Decision tree]\n",
            "ROC AUC: 0.980 (+/- 0.012) [Boosting]\n"
          ],
          "name": "stdout"
        }
      ]
    },
    {
      "cell_type": "markdown",
      "metadata": {
        "id": "AXO9d5poQ1ev"
      },
      "source": [
        "#Pipe Line"
      ]
    },
    {
      "cell_type": "code",
      "metadata": {
        "colab": {
          "base_uri": "https://localhost:8080/"
        },
        "id": "HT5clV8dRobx",
        "outputId": "451ecdd2-bead-4d1d-daa7-735f7f4188de"
      },
      "source": [
        "from sklearn.preprocessing import StandardScaler\n",
        "from sklearn.decomposition import PCA\n",
        "from sklearn.pipeline import make_pipeline\n",
        "\n",
        "\n",
        "pipe = make_pipeline(StandardScaler(), PCA(n_components=10), DecisionTreeClassifier())\n",
        "\n",
        "param_range1 = [1, 3, 5, 7]\n",
        "param_range2 = [10, 20, 30, 40, 50]\n",
        "\n",
        "param_grid = [{'decisiontreeclassifier__max_depth' : param_range1,\n",
        "               'decisiontreeclassifier__min_samples_leaf' : param_range2}]\n",
        "\n",
        "GS = GridSearchCV(estimator=pipe,\n",
        "                  param_grid = param_grid,\n",
        "                  scoring = 'accuracy',\n",
        "                  cv = 5,\n",
        "                  n_jobs = -1 #using all processors \n",
        "                  )\n",
        "GS = GS.fit(x_train, y_train)\n",
        "\n",
        "print(GS.best_score_)\n",
        "print(GS.best_params_)"
      ],
      "execution_count": 112,
      "outputs": [
        {
          "output_type": "stream",
          "text": [
            "0.9373333333333334\n",
            "{'decisiontreeclassifier__max_depth': 7, 'decisiontreeclassifier__min_samples_leaf': 10}\n"
          ],
          "name": "stdout"
        }
      ]
    }
  ]
}