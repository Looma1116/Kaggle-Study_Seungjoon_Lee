{
  "nbformat": 4,
  "nbformat_minor": 0,
  "metadata": {
    "colab": {
      "name": "wine KNN",
      "provenance": [],
      "authorship_tag": "ABX9TyMGQTDEYWgcUH6/OjZBn5sX",
      "include_colab_link": true
    },
    "kernelspec": {
      "name": "python3",
      "display_name": "Python 3"
    },
    "language_info": {
      "name": "python"
    }
  },
  "cells": [
    {
      "cell_type": "markdown",
      "metadata": {
        "id": "view-in-github",
        "colab_type": "text"
      },
      "source": [
        "<a href=\"https://colab.research.google.com/github/Looma1116/Seungjoon_Lee/blob/main/wine_KNN.ipynb\" target=\"_parent\"><img src=\"https://colab.research.google.com/assets/colab-badge.svg\" alt=\"Open In Colab\"/></a>"
      ]
    },
    {
      "cell_type": "code",
      "metadata": {
        "colab": {
          "base_uri": "https://localhost:8080/"
        },
        "id": "PPCIXvDxiVWb",
        "outputId": "88b73a70-17b1-410a-af7d-4127c4de8a27"
      },
      "source": [
        "import pandas as pd\n",
        "import numpy as np\n",
        "dat_wine = pd.read_csv('http://archive.ics.uci.edu/ml/machine-learning-databases/wine/wine.data',header=None)\n",
        "\n",
        "dat_wine.columns = ['class label', 'alchohol', 'malic acid','ash','alcalinity of ash','magnesium','total phenols',\n",
        "                    'flavanoids','nonflavanoid phenols','proanthocyanins','color intensity','hue','OD208','proline']\n",
        "print('class label : ',np.unique(dat_wine['class label']))\n",
        "\n",
        "from sklearn.model_selection import train_test_split\n",
        "x,y = dat_wine.iloc[:,1:].values, dat_wine.iloc[:,0].values\n",
        "x_train, x_test, y_train, y_test = train_test_split(x,y,test_size=0.3, random_state =1, stratify = y)"
      ],
      "execution_count": null,
      "outputs": [
        {
          "output_type": "stream",
          "text": [
            "class label :  [1 2 3]\n"
          ],
          "name": "stdout"
        }
      ]
    },
    {
      "cell_type": "code",
      "metadata": {
        "id": "ZvfsEu2aihf3"
      },
      "source": [
        "from sklearn.neighbors import KNeighborsClassifier #KNN 불러오기\n",
        "knn=KNeighborsClassifier(n_neighbors=4, p=2) #5개의 인접한 이웃, 거리측정 : 유클리디언\n",
        "\n",
        "from sklearn.preprocessing import StandardScaler\n",
        "sc = StandardScaler()\n",
        "sc.fit(x_train)\n",
        "x_train_std = sc.transform(x_train)\n",
        "x_test_std = sc.transform(x_test)\n",
        "\n",
        "knn.fit(x_train_std, y_train) #모델 fitting 과정\n",
        "y_train_pred = knn.predict(x_train_std)\n",
        "y_test_pred = knn.predict(x_test_std)"
      ],
      "execution_count": null,
      "outputs": []
    },
    {
      "cell_type": "code",
      "metadata": {
        "colab": {
          "base_uri": "https://localhost:8080/"
        },
        "id": "oBZlTmj7i6ZE",
        "outputId": "05b78e58-a3da-4613-bb2a-ec6f20f947d6"
      },
      "source": [
        "from sklearn.metrics import accuracy_score\n",
        "print(accuracy_score(y_train_pred, y_train))\n",
        "print(accuracy_score(y_test_pred , y_test))\n"
      ],
      "execution_count": null,
      "outputs": [
        {
          "output_type": "stream",
          "text": [
            "0.9596774193548387\n",
            "0.9444444444444444\n"
          ],
          "name": "stdout"
        }
      ]
    }
  ]
}